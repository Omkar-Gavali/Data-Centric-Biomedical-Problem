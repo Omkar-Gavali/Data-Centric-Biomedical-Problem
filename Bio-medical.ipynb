{
 "cells": [
  {
   "cell_type": "code",
   "execution_count": 16,
   "metadata": {},
   "outputs": [
    {
     "name": "stderr",
     "output_type": "stream",
     "text": [
      "[nltk_data] Downloading package stopwords to\n",
      "[nltk_data]     C:\\Users\\Omkar\\AppData\\Roaming\\nltk_data...\n",
      "[nltk_data]   Package stopwords is already up-to-date!\n",
      "[nltk_data] Downloading package wordnet to\n",
      "[nltk_data]     C:\\Users\\Omkar\\AppData\\Roaming\\nltk_data...\n",
      "[nltk_data]   Package wordnet is already up-to-date!\n",
      "[nltk_data] Downloading package punkt to\n",
      "[nltk_data]     C:\\Users\\Omkar\\AppData\\Roaming\\nltk_data...\n",
      "[nltk_data]   Package punkt is already up-to-date!\n"
     ]
    }
   ],
   "source": [
    "\n",
    "\n",
    "import numpy as np \n",
    "import pandas as pd\n",
    "import matplotlib.pyplot as plt\n",
    "import os\n",
    "import seaborn as sns\n",
    "import sklearn\n",
    "import plotly.graph_objects as go\n",
    "import plotly.express as px\n",
    "from sklearn.preprocessing import StandardScaler\n",
    "import re\n",
    "import nltk\n",
    "import pickle\n",
    "\n",
    "nltk.download('stopwords')\n",
    "nltk.download('wordnet')\n",
    "nltk.download('punkt')\n",
    "\n",
    "from tqdm import tqdm\n",
    "from nltk.corpus import wordnet as wn\n",
    "from nltk.stem.wordnet import WordNetLemmatizer\n",
    "from nltk import word_tokenize, pos_tag\n",
    "from nltk.corpus import inaugural, stopwords\n",
    "from wordcloud import WordCloud, STOPWORDS\n",
    "\n",
    "from sklearn.feature_extraction.text import TfidfVectorizer\n",
    "from sklearn.model_selection import train_test_split\n",
    "from sklearn.linear_model import LogisticRegression\n",
    "from sklearn.metrics import f1_score\n",
    "from sklearn.impute import SimpleImputer\n",
    "from sklearn.svm import LinearSVC\n",
    "from sklearn.decomposition import PCA"
   ]
  },
  {
   "cell_type": "code",
   "execution_count": 17,
   "metadata": {},
   "outputs": [],
   "source": [
    "df=pd.read_csv('labelled_train_data.csv')"
   ]
  },
  {
   "cell_type": "code",
   "execution_count": null,
   "metadata": {},
   "outputs": [],
   "source": []
  },
  {
   "cell_type": "code",
   "execution_count": 18,
   "metadata": {},
   "outputs": [
    {
     "name": "stdout",
     "output_type": "stream",
     "text": [
      "<class 'pandas.core.frame.DataFrame'>\n",
      "RangeIndex: 623 entries, 0 to 622\n",
      "Data columns (total 53 columns):\n",
      " #   Column                    Non-Null Count  Dtype  \n",
      "---  ------                    --------------  -----  \n",
      " 0   Unnamed: 0                623 non-null    int64  \n",
      " 1   geo_accession             623 non-null    object \n",
      " 2   gse_id                    623 non-null    object \n",
      " 3   ctrl                      623 non-null    float64\n",
      " 4   pert                      623 non-null    float64\n",
      " 5   channel_count             623 non-null    int64  \n",
      " 6   characteristics_ch1       623 non-null    object \n",
      " 7   contact_address           623 non-null    object \n",
      " 8   contact_city              623 non-null    object \n",
      " 9   contact_country           623 non-null    object \n",
      " 10  contact_department        503 non-null    object \n",
      " 11  contact_email             394 non-null    object \n",
      " 12  contact_institute         623 non-null    object \n",
      " 13  contact_name              623 non-null    object \n",
      " 14  contact_state             449 non-null    object \n",
      " 15  data_processing           623 non-null    object \n",
      " 16  data_row_count            623 non-null    int64  \n",
      " 17  description               476 non-null    object \n",
      " 18  extract_protocol_ch1      623 non-null    object \n",
      " 19  growth_protocol_ch1       282 non-null    object \n",
      " 20  hyb_protocol              513 non-null    object \n",
      " 21  label_ch1                 513 non-null    object \n",
      " 22  label_protocol_ch1        513 non-null    object \n",
      " 23  last_update_date          623 non-null    object \n",
      " 24  molecule_ch1              623 non-null    object \n",
      " 25  organism_ch1              623 non-null    object \n",
      " 26  platform_id               623 non-null    object \n",
      " 27  scan_protocol             513 non-null    object \n",
      " 28  source_name_ch1           623 non-null    object \n",
      " 29  status                    623 non-null    object \n",
      " 30  submission_date           623 non-null    object \n",
      " 31  supplementary_file        513 non-null    object \n",
      " 32  taxid_ch1                 623 non-null    int64  \n",
      " 33  title                     623 non-null    object \n",
      " 34  treatment_protocol_ch1    298 non-null    object \n",
      " 35  type                      623 non-null    object \n",
      " 36  contact_phone             160 non-null    object \n",
      " 37  contact_laboratory        344 non-null    object \n",
      " 38  relation                  137 non-null    object \n",
      " 39  contact_fax               15 non-null     object \n",
      " 40  biomaterial_provider_ch1  14 non-null     object \n",
      " 41  contact_web_link          9 non-null      object \n",
      " 42  characteristics_ch2       26 non-null     object \n",
      " 43  extract_protocol_ch2      26 non-null     object \n",
      " 44  label_ch2                 26 non-null     object \n",
      " 45  label_protocol_ch2        26 non-null     object \n",
      " 46  molecule_ch2              26 non-null     object \n",
      " 47  organism_ch2              26 non-null     object \n",
      " 48  source_name_ch2           26 non-null     object \n",
      " 49  taxid_ch2                 26 non-null     float64\n",
      " 50  treatment_protocol_ch2    15 non-null     object \n",
      " 51  biomaterial_provider_ch2  4 non-null      object \n",
      " 52  growth_protocol_ch2       9 non-null      object \n",
      "dtypes: float64(3), int64(4), object(46)\n",
      "memory usage: 258.1+ KB\n"
     ]
    }
   ],
   "source": [
    "train.info()\n"
   ]
  },
  {
   "cell_type": "code",
   "execution_count": 19,
   "metadata": {},
   "outputs": [
    {
     "name": "stdout",
     "output_type": "stream",
     "text": [
      "(623, 32)\n"
     ]
    }
   ],
   "source": [
    "# Storing the target variable\n",
    "y_lab = df['ctrl']\n",
    "\n",
    "# Eliminating some trivial columns\n",
    "cols_ele = []\n",
    "\n",
    "for col in df.columns:\n",
    "    if col.startswith('contact'):\n",
    "        cols_ele.append(col)\n",
    "\n",
    "cols_ele.extend(['Unnamed: 0', 'geo_accession', 'gse_id', 'ctrl', 'pert', 'last_update_date',\n",
    "    'status', 'submission_date', 'supplementary_file'])\n",
    "\n",
    "df.drop(columns=cols_ele, axis=1, inplace=True)\n",
    "cols_ele.remove('ctrl'); cols_ele.remove('pert');\n",
    "print(df.shape)"
   ]
  },
  {
   "cell_type": "code",
   "execution_count": 20,
   "metadata": {},
   "outputs": [
    {
     "name": "stdout",
     "output_type": "stream",
     "text": [
      "<class 'pandas.core.frame.DataFrame'>\n",
      "RangeIndex: 623 entries, 0 to 622\n",
      "Data columns (total 17 columns):\n",
      " #   Column                Non-Null Count  Dtype \n",
      "---  ------                --------------  ----- \n",
      " 0   channel_count         623 non-null    int64 \n",
      " 1   characteristics_ch1   623 non-null    object\n",
      " 2   data_processing       623 non-null    object\n",
      " 3   data_row_count        623 non-null    int64 \n",
      " 4   description           476 non-null    object\n",
      " 5   extract_protocol_ch1  623 non-null    object\n",
      " 6   hyb_protocol          513 non-null    object\n",
      " 7   label_ch1             513 non-null    object\n",
      " 8   label_protocol_ch1    513 non-null    object\n",
      " 9   molecule_ch1          623 non-null    object\n",
      " 10  organism_ch1          623 non-null    object\n",
      " 11  platform_id           623 non-null    object\n",
      " 12  scan_protocol         513 non-null    object\n",
      " 13  source_name_ch1       623 non-null    object\n",
      " 14  taxid_ch1             623 non-null    int64 \n",
      " 15  title                 623 non-null    object\n",
      " 16  type                  623 non-null    object\n",
      "dtypes: int64(3), object(14)\n",
      "memory usage: 82.9+ KB\n"
     ]
    }
   ],
   "source": [
    "# Eliminating all the features having more than 50% null values\n",
    "threshold_null = df.shape[0] // 2\n",
    "\n",
    "cols_drop = []\n",
    "for col in df.columns:\n",
    "    if df.loc[ : , col].isnull().sum() > threshold_null:\n",
    "        cols_drop.append(col)\n",
    "        \n",
    "df.drop(columns=cols_drop, axis=1, inplace=True)\n",
    "df.info()"
   ]
  },
  {
   "cell_type": "code",
   "execution_count": 21,
   "metadata": {},
   "outputs": [
    {
     "data": {
      "image/png": "[encoded data removed]",
      "text/plain": [
       "<Figure size 864x864 with 2 Axes>"
      ]
     },
     "metadata": {
      "needs_background": "light"
     },
     "output_type": "display_data"
    }
   ],
   "source": [
    "\n",
    "corr = train.corr()\n",
    "plt.figure(figsize=(12, 12))\n",
    "sns.set(font_scale=0.8)\n",
    "sns.heatmap(corr, square=True, cmap=\"PRGn\", linewidths=2, annot=True, cbar_kws={'shrink': 0.8})\n",
    "plt.title(\"Correlation Matrix\", fontsize=16, pad=30)\n",
    "plt.show()"
   ]
  },
  {
   "cell_type": "code",
   "execution_count": 22,
   "metadata": {},
   "outputs": [
    {
     "name": "stdout",
     "output_type": "stream",
     "text": [
      "['characteristics_ch1', 'data_processing', 'description', 'extract_protocol_ch1', 'hyb_protocol', 'label_ch1', 'label_protocol_ch1', 'molecule_ch1', 'organism_ch1', 'platform_id', 'scan_protocol', 'source_name_ch1', 'title', 'type']\n"
     ]
    }
   ],
   "source": [
    "# Acquiring the text-based features\n",
    "cols_text = []\n",
    "for col, form in zip(df.columns, df.dtypes):\n",
    "    if form == 'object': cols_text.append(col)\n",
    "print(cols_text)"
   ]
  },
  {
   "cell_type": "code",
   "execution_count": 23,
   "metadata": {},
   "outputs": [
    {
     "name": "stdout",
     "output_type": "stream",
     "text": [
      "['characteristics_ch1', 'extract_protocol_ch1', 'label_ch1', 'molecule_ch1', 'organism_ch1', 'source_name_ch1']\n"
     ]
    }
   ],
   "source": [
    "cols_text.remove('data_processing')\n",
    "cols_text.remove('description')\n",
    "cols_text.remove('platform_id')\n",
    "cols_text.remove('scan_protocol')\n",
    "cols_text.remove('title')\n",
    "cols_text.remove('type')\n",
    "cols_text.remove('label_protocol_ch1')\n",
    "cols_text.remove('hyb_protocol')\n",
    "print(cols_text)\n"
   ]
  },
  {
   "cell_type": "code",
   "execution_count": 24,
   "metadata": {},
   "outputs": [],
   "source": [
    "# Pre-Processing function for text-based features\n",
    "def preprocess(data_df):\n",
    "    data_df['cleaned'] = ''\n",
    "    \n",
    "    # Initializing Stopwords and Lemmatization objects\n",
    "    stop_words = set(stopwords.words('english'))\n",
    "    wordnet_lemm = WordNetLemmatizer()\n",
    "    \n",
    "    # Pattern to detect characters which are not alphabets or numbers so they can removed\n",
    "    alpha_or_numeric = \"[^a-zA-Z0-9- ]\"\n",
    "    \n",
    "    for index, row in tqdm(data_df.iterrows(), total = data_df.shape[0]):\n",
    "        sample = row['feature']\n",
    "        \n",
    "        # Replacing characters which are not alphabets or numbers with blank space and ...\n",
    "        # ... changing text to lowercase. These two steps are for cleaning text data, ...\n",
    "        # ... you can add more on top of this to make your data cleaner.\n",
    "        pre_txt = re.sub(alpha_or_numeric, \" \", sample)\n",
    "        pre_txt = sample.lower()\n",
    "        \n",
    "        # Removing stop words and lemmatizing different words in preprocessed text ...\n",
    "        # ... and making the final processed text\n",
    "        sample_words = [wordnet_lemm.lemmatize(w) for w in pre_txt.split() \\\n",
    "            if w not in stop_words and len(w)>1]\n",
    "        pre_proc_ver = ' '.join(sample_words)\n",
    "        \n",
    "        data_df.loc[index, 'cleaned'] = pre_proc_ver\n",
    "    return data_df"
   ]
  },
  {
   "cell_type": "code",
   "execution_count": 25,
   "metadata": {},
   "outputs": [
    {
     "name": "stderr",
     "output_type": "stream",
     "text": [
      "100%|██████████| 623/623 [00:00<00:00, 2016.06it/s]\n"
     ]
    },
    {
     "data": {
      "text/html": [
       "<div>\n",
       "<style scoped>\n",
       "    .dataframe tbody tr th:only-of-type {\n",
       "        vertical-align: middle;\n",
       "    }\n",
       "\n",
       "    .dataframe tbody tr th {\n",
       "        vertical-align: top;\n",
       "    }\n",
       "\n",
       "    .dataframe thead th {\n",
       "        text-align: right;\n",
       "    }\n",
       "</style>\n",
       "<table border=\"1\" class=\"dataframe\">\n",
       "  <thead>\n",
       "    <tr style=\"text-align: right;\">\n",
       "      <th></th>\n",
       "      <th>cleaned</th>\n",
       "    </tr>\n",
       "  </thead>\n",
       "  <tbody>\n",
       "    <tr>\n",
       "      <th>0</th>\n",
       "      <td>facs sorting: cd44low/cd24high total rna extra...</td>\n",
       "    </tr>\n",
       "    <tr>\n",
       "      <th>1</th>\n",
       "      <td>facs sorting: unsorted total rna extracted usi...</td>\n",
       "    </tr>\n",
       "    <tr>\n",
       "      <th>2</th>\n",
       "      <td>facs sorting: cd44low/cd24high total rna extra...</td>\n",
       "    </tr>\n",
       "    <tr>\n",
       "      <th>3</th>\n",
       "      <td>facs sorting: cd44high/cd24low total rna extra...</td>\n",
       "    </tr>\n",
       "    <tr>\n",
       "      <th>4</th>\n",
       "      <td>tissue: human nasal polyp nasal fibroblast exp...</td>\n",
       "    </tr>\n",
       "  </tbody>\n",
       "</table>\n",
       "</div>"
      ],
      "text/plain": [
       "                                             cleaned\n",
       "0  facs sorting: cd44low/cd24high total rna extra...\n",
       "1  facs sorting: unsorted total rna extracted usi...\n",
       "2  facs sorting: cd44low/cd24high total rna extra...\n",
       "3  facs sorting: cd44high/cd24low total rna extra...\n",
       "4  tissue: human nasal polyp nasal fibroblast exp..."
      ]
     },
     "execution_count": 25,
     "metadata": {},
     "output_type": "execute_result"
    }
   ],
   "source": [
    "# Processing the text-based features\n",
    "df_text = df.loc[ : , cols_text]\n",
    "df_text['feature'] = df.apply(lambda row: ' '.join([str(row[i]) for i in cols_text]), axis=1)\n",
    "df_text = preprocess(pd.DataFrame(df_text))\n",
    "\n",
    "# Removing the Unnecessary Features\n",
    "df_text = pd.DataFrame(df_text['cleaned'])\n",
    "df_text.head()"
   ]
  },
  {
   "cell_type": "code",
   "execution_count": 28,
   "metadata": {},
   "outputs": [
    {
     "name": "stdout",
     "output_type": "stream",
     "text": [
      "(623, 1071)\n"
     ]
    }
   ],
   "source": [
    "\n",
    "# Feature extraction with TFIDF Vectorizer. \n",
    "# The class needs stopwords as an input and uses punkt by default which we ... \n",
    "# ... downloaded when importing libraries.\n",
    " #stop_words= set(stopwords.words('english'))\n",
    "\n",
    "vect = TfidfVectorizer(analyzer=\"word\", preprocessor=None, stop_words='english', max_features=4000)\n",
    "\n",
    "df_text = vect.fit_transform(df_text['cleaned'])\n",
    "df = pd.DataFrame(df_text.toarray())\n",
    "print(df.shape)"
   ]
  },
  {
   "cell_type": "code",
   "execution_count": 29,
   "metadata": {},
   "outputs": [
    {
     "name": "stdout",
     "output_type": "stream",
     "text": [
      "(623, 161)\n"
     ]
    }
   ],
   "source": [
    "pca = PCA(n_components=.99, svd_solver='full')\n",
    "df = pca.fit_transform(df)\n",
    "print(df.shape)\n"
   ]
  },
  {
   "cell_type": "code",
   "execution_count": null,
   "metadata": {},
   "outputs": [],
   "source": [
    "##Training the Model"
   ]
  },
  {
   "cell_type": "code",
   "execution_count": 30,
   "metadata": {},
   "outputs": [
    {
     "name": "stdout",
     "output_type": "stream",
     "text": [
      "(498, 161) (125, 161) (498,) (125,)\n",
      "Training F1-Score:  0.899795501022495\n",
      "Validation F1-Score:  0.6991869918699187\n"
     ]
    }
   ],
   "source": [
    "X_train, X_val, y_train, y_val = train_test_split(df, y_lab, test_size=0.2, random_state=42)\n",
    "print(X_train.shape, X_val.shape, y_train.shape, y_val.shape)\n",
    "\n",
    "lr = LogisticRegression(solver='liblinear')\n",
    "lr.fit(X_train, y_train)\n",
    "y_train_pred = lr.predict(X_train)\n",
    "y_val_pred = lr.predict(X_val)\n",
    "\n",
    "print(\"Training F1-Score: \", f1_score(y_train, y_train_pred))\n",
    "print(\"Validation F1-Score: \", f1_score(y_val, y_val_pred))\n"
   ]
  },
  {
   "cell_type": "code",
   "execution_count": 31,
   "metadata": {},
   "outputs": [
    {
     "name": "stdout",
     "output_type": "stream",
     "text": [
      "F1-Score:  0.858603066439523\n"
     ]
    }
   ],
   "source": [
    "# Running the Model on the entire Training Dataset\n",
    "lr = LogisticRegression(solver='liblinear')\n",
    "lr.fit(df, y_lab)\n",
    "y_pred = lr.predict(df)\n",
    "print(\"F1-Score: \", f1_score(y_lab, y_pred))"
   ]
  },
  {
   "cell_type": "code",
   "execution_count": null,
   "metadata": {},
   "outputs": [],
   "source": [
    "#Inferencing"
   ]
  },
  {
   "cell_type": "code",
   "execution_count": 32,
   "metadata": {},
   "outputs": [
    {
     "name": "stdout",
     "output_type": "stream",
     "text": [
      "(6070, 17)\n"
     ]
    },
    {
     "name": "stderr",
     "output_type": "stream",
     "text": [
      "100%|██████████| 6070/6070 [00:02<00:00, 2456.75it/s]\n"
     ]
    },
    {
     "name": "stdout",
     "output_type": "stream",
     "text": [
      "(6070, 1071)\n",
      "(6070, 161)\n"
     ]
    }
   ],
   "source": [
    "test_df = pd.read_csv(\"data_only_test.csv\")\n",
    "test_df.drop(columns=cols_ele, axis=1, inplace=True)\n",
    "test_df.drop(columns=cols_drop, axis=1, inplace=True)\n",
    "print(test_df.shape)\n",
    "\n",
    "test_text = test_df.loc[ : , cols_text]\n",
    "test_text['feature'] = test_df.apply(lambda row: ' '.join([str(row[i]) for i in cols_text]), axis=1)\n",
    "test_text = preprocess(pd.DataFrame(test_text))\n",
    "test_text = pd.DataFrame(test_text['cleaned'])\n",
    "test_text = vect.transform(test_text['cleaned'])\n",
    "test_df = pd.DataFrame(test_text.toarray())\n",
    "print(test_df.shape)\n",
    "\n",
    "test_df = pca.transform(test_df)\n",
    "print(test_df.shape)"
   ]
  },
  {
   "cell_type": "code",
   "execution_count": 33,
   "metadata": {},
   "outputs": [],
   "source": [
    "# Importing the Sample Submission and Preparing the Submission\n",
    "y_sub = pd.read_csv(\"sample_submission.csv\")\n",
    "y_test = lr.predict(test_df)\n",
    "y_sub['ctrl'] = y_test\n",
    "y_sub.to_csv(\"sub12.csv\", index = False)"
   ]
  },
  {
   "cell_type": "code",
   "execution_count": null,
   "metadata": {},
   "outputs": [],
   "source": []
  }
 ],
 "metadata": {
  "kernelspec": {
   "display_name": "Python 3.8.5 cuda 11.7",
   "language": "python",
   "name": "pythoncuda"
  },
  "language_info": {
   "codemirror_mode": {
    "name": "ipython",
    "version": 3
   },
   "file_extension": ".py",
   "mimetype": "text/x-python",
   "name": "python",
   "nbconvert_exporter": "python",
   "pygments_lexer": "ipython3",
   "version": "3.8.5"
  },
  "orig_nbformat": 4
 },
 "nbformat": 4,
 "nbformat_minor": 2
}
